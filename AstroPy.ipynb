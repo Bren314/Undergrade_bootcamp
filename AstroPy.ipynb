{
 "cells": [
  {
   "cell_type": "markdown",
   "metadata": {},
   "source": [
    "# AstroPy Tutorial\n",
    "This is a tutorial for incoming research students to get familiar with the kinds of things that you can utilize from this package. "
   ]
  },
  {
   "cell_type": "code",
   "execution_count": 1,
   "metadata": {},
   "outputs": [],
   "source": [
    "import astropy "
   ]
  },
  {
   "cell_type": "markdown",
   "metadata": {},
   "source": [
    "## FITS File Handling\n",
    "There are a lot of opinions on what the best type of file extension is to use. However, in this group, we commonly use FITS files. This section will help you get a grasp on how to read these types of files and use them. \n",
    "\n",
    "To use the fits functionality from astropy, we need to import it"
   ]
  },
  {
   "cell_type": "code",
   "execution_count": 2,
   "metadata": {},
   "outputs": [],
   "source": [
    "from astropy.io import fits"
   ]
  },
  {
   "cell_type": "markdown",
   "metadata": {},
   "source": [
    "Now that we have the fits package imported, we need a file to open! We are going to open the file *spSpec-112359-59648-27021597910086737.fits* which should be in the directory or folder that this code is in!"
   ]
  },
  {
   "cell_type": "code",
   "execution_count": 3,
   "metadata": {},
   "outputs": [],
   "source": [
    "dataFile = fits.open('spSpec-112359-59648-27021597910086737.fits')"
   ]
  },
  {
   "cell_type": "code",
   "execution_count": 4,
   "metadata": {},
   "outputs": [
    {
     "name": "stdout",
     "output_type": "stream",
     "text": [
      "[<astropy.io.fits.hdu.image.PrimaryHDU object at 0x7f853a7974d0>, <astropy.io.fits.hdu.table.BinTableHDU object at 0x7f853a7b9850>, <astropy.io.fits.hdu.table.BinTableHDU object at 0x7f853acf7a10>, <astropy.io.fits.hdu.table.BinTableHDU object at 0x7f853ad05090>, <astropy.io.fits.hdu.table.BinTableHDU object at 0x7f853ad10650>, <astropy.io.fits.hdu.table.BinTableHDU object at 0x7f853ad1dc50>, <astropy.io.fits.hdu.table.BinTableHDU object at 0x7f853ad2b350>, <astropy.io.fits.hdu.table.BinTableHDU object at 0x7f853ad36a10>, <astropy.io.fits.hdu.table.BinTableHDU object at 0x7f853ad46090>, <astropy.io.fits.hdu.table.BinTableHDU object at 0x7f853ad50710>, <astropy.io.fits.hdu.table.BinTableHDU object at 0x7f853ad5ad50>]\n"
     ]
    }
   ],
   "source": [
    "print(dataFile)"
   ]
  },
  {
   "cell_type": "markdown",
   "metadata": {},
   "source": [
    "FITS files can contain a myriad of different headers called HDU (Header Data Unit). You can call each header individually by typing:\n",
    "```Python\n",
    "dataFile[0]\n",
    "```\n",
    "which will call the primary HDU. Subsequently, typing:\n",
    "```Python\n",
    "dataFile[1]\n",
    "``` \n",
    "will call the first extension HDU (if there are any) and so on and so forth."
   ]
  },
  {
   "cell_type": "markdown",
   "metadata": {},
   "source": [
    "We can quickly look at the structure of our FITS file by running the following command:"
   ]
  },
  {
   "cell_type": "code",
   "execution_count": 5,
   "metadata": {},
   "outputs": [
    {
     "name": "stdout",
     "output_type": "stream",
     "text": [
      "Filename: spSpec-112359-59648-27021597910086737.fits\n",
      "No.    Name      Ver    Type      Cards   Dimensions   Format\n",
      "  0  PRIMARY       1 PrimaryHDU     292   ()      \n",
      "  1  COADD         1 BinTableHDU     34   4648R x 8C   [E, E, E, J, J, E, E, E]   \n",
      "  2  PLUGMAP       1 BinTableHDU    152   1R x 67C   [9A, I, I, I, I, D, D, D, D, E, E, E, D, D, E, E, I, 5E, 11A, E, E, E, E, K, K, 10A, 17A, 7A, 13A, K, K, D, D, 18A, J, J, J, 16A, 5E, 5E, 5E, 5E, 5E, 5J, E, E, E, 4E, 3E, 2E, E, E, E, 13A, I, I, D, 79A, 87A, 31A, 87A, 63A, 63A, 63A, 47A, 55A, 39A]   \n",
      "  3  MJD_EXP_59648-00    1 BinTableHDU    196   4648R x 8C   [E, E, E, J, J, E, E, E]   \n",
      "  4  MJD_EXP_59648-01    1 BinTableHDU    194   4648R x 8C   [E, E, E, J, J, E, E, E]   \n",
      "  5  MJD_EXP_59648-02    1 BinTableHDU    194   4648R x 8C   [E, E, E, J, J, E, E, E]   \n",
      "  6  MJD_EXP_59648-03    1 BinTableHDU    198   4648R x 8C   [E, E, E, J, J, E, E, E]   \n",
      "  7  MJD_EXP_59648-04    1 BinTableHDU    198   4648R x 8C   [E, E, E, J, J, E, E, E]   \n",
      "  8  MJD_EXP_59648-05    1 BinTableHDU    196   4648R x 8C   [E, E, E, J, J, E, E, E]   \n",
      "  9  MJD_EXP_59648-06    1 BinTableHDU    198   4648R x 8C   [E, E, E, J, J, E, E, E]   \n",
      " 10  MJD_EXP_59648-07    1 BinTableHDU    196   4648R x 8C   [E, E, E, J, J, E, E, E]   \n"
     ]
    }
   ],
   "source": [
    "dataFile.info()"
   ]
  },
  {
   "cell_type": "markdown",
   "metadata": {},
   "source": [
    "We see that there is a **PRIMARY** HDU in the first row and there is a **CODADD** in the second row. These two are all we really need to focus on. \n",
    "\n",
    "Let's look at the *PrimaryHDU*. There are two components of an HDU that we need to be aware of:\n",
    "1. Data\n",
    "2. Header\n",
    "\n",
    "In order to open these, we use the following commands:\n",
    "\n",
    "```Python\n",
    "dataFile[0].data #to open the data portion of the file\n",
    "dataFile[0].header #to open the header portion of the file.\n",
    "```\n",
    "\n",
    "The *data* part of the FITS file is where the physical data is stored, such as flux, wavelength, etc. The *header* part of the the FITS file is where any technical information is getting stored such as where the object is located in the sky, the atmospheric conditions when it was observed, etc. \n",
    "\n",
    "Let's see what the data and header of the PrimaryHDU look like"
   ]
  },
  {
   "cell_type": "code",
   "execution_count": 6,
   "metadata": {},
   "outputs": [],
   "source": [
    "dataFile[0].data"
   ]
  },
  {
   "cell_type": "markdown",
   "metadata": {},
   "source": [
    "You can see that in the Primary HDU, there is nothing in the way of data. Nothing gets displayed! Now, let's look at the header."
   ]
  },
  {
   "cell_type": "code",
   "execution_count": 7,
   "metadata": {},
   "outputs": [
    {
     "data": {
      "text/plain": [
       "SIMPLE  =                    T / conforms to FITS standard                      \n",
       "BITPIX  =                    8 / array data type                                \n",
       "NAXIS   =                    0 / number of array dimensions                     \n",
       "NAXIS1  =                 4648 /                                                \n",
       "EXTEND  =                    T /                                                \n",
       "TELESCOP= 'SDSS 2.5-M'         / Sloan Digital Sky Survey                       \n",
       "V_BOSS  = '6.0.1   '           / Active version of the BOSS ICC                 \n",
       "CAMDAQ  = '1.5.0:37'                                                            \n",
       "SUBFRAME= '' / the subframe readout command                                     \n",
       "ERRCNT  = '2       '                                                            \n",
       "SYNCERR = 'NONE    '                                                            \n",
       "SLINES  = 'NONE    '                                                            \n",
       "PIXERR  = 'NONE    '                                                            \n",
       "PLINES  = 'NONE    '                                                            \n",
       "PFERR   = '1       '                                                            \n",
       "DIDFLUSH=                    T / CCD was flushed before integration             \n",
       "FLAVOR  = 'science '           / exposure type, SDSS spectro style              \n",
       "MJD     =                59648 / APO fMJD day at start of exposure              \n",
       "CARTID  = 'FPS-N   '           /Cartridge used in this plugging                 \n",
       "FIELDID = '112359  '           / FPS field                                      \n",
       "VJAEGER = '0.14.1-alpha.0'     / Version of Jaeger                              \n",
       "VKAIJU  = '1.2.2-alpha.1'      / Version of Kaiju                               \n",
       "VCOORDIO= '1.2.2-alpha.1'      / Version of coordIO                             \n",
       "VCALIBS = 'APO.2021.12.25+960cb05' / Version of FPS calibrations                \n",
       "OBJSYS  = 'ICRS    '           / The TCC objSys                                 \n",
       "RA      =            213.69958 / RA of telescope boresight (deg)                \n",
       "DEC     =             53.07407 / Dec of telescope boresight (deg)               \n",
       "EQUINOX =              2000.00 /                                                \n",
       "RADECSYS= 'FK5     '           /                                                \n",
       "RADEG   =           213.704167 / RA of telescope pointing(deg)                  \n",
       "DECDEG  =               53.075 / Dec of telescope pointing (deg)                \n",
       "ROTTYPE = 'Obj     '           / Rotator request type                           \n",
       "ROTPOS  =                 25.5 / Rotator request position (deg)                 \n",
       "BOREOFFX=                  0.0 / TCC Boresight offset, deg                      \n",
       "BOREOFFY=                  0.0 / TCC Boresight offset, deg                      \n",
       "ARCOFFX =            -0.002755 / TCC ObjArcOff, deg                             \n",
       "ARCOFFY = -0.00093000000000000 / TCC ObjArcOff, deg                             \n",
       "CALOFFX =                  0.0 / TCC CalibOff, deg                              \n",
       "CALOFFY =                  0.0 / TCC CalibOff, deg                              \n",
       "CALOFFR =                  0.0 / TCC CalibOff, deg                              \n",
       "GUIDOFFX=                  0.0 / TCC GuideOff, deg                              \n",
       "GUIDOFFY=                  0.0 / TCC GuideOff, deg                              \n",
       "GUIDOFFR=             0.347742 / TCC GuideOff, deg                              \n",
       "FOCUS   =               296.26 / User-specified focus offset (um)               \n",
       "M2PISTON=              4028.62 / TCC SecOrient                                  \n",
       "M2XTILT =                -0.01 / TCC SecOrient                                  \n",
       "M2YTILT =                -0.03 / TCC SecOrient                                  \n",
       "M2XTRAN =                -0.02 / TCC SecOrient                                  \n",
       "M2YTRAN =              -151.95 / TCC SecOrient                                  \n",
       "M2ZROT  =               -11.45 / TCC SecOrient                                  \n",
       "M1PISTON=                 1.07 / TCC PrimOrient                                 \n",
       "M1XTILT =               -59.51 / TCC PrimOrient                                 \n",
       "M1YTILT =   -9.210000000000001 / TCC PrimOrient                                 \n",
       "M1XTRAN =              -512.13 / TCC PrimOrient                                 \n",
       "M1YTRAN =              1906.31 / TCC PrimOrient                                 \n",
       "M1ZROT  =                 0.03 / TCC PrimOrient                                 \n",
       "SCALE   =                  1.0 / User-specified scale factor                    \n",
       "V_APO   = '3.0.1   '           / version of the current apoActor                \n",
       "GUSTD   =        258.111374382 /                                                \n",
       "TRUSTEMP=                 -2.6                                                  \n",
       "WINDD25M=       -999.000000000 /                                                \n",
       "WINDS25M=       -999.000000000 /                                                \n",
       "SLITID1 =                    0 / Normalized slithead ID. sp1&2 should match.    \n",
       "COLLA   =                -5795 / The position of the A collimator motor         \n",
       "COLLB   =                -5651 / The position of the B collimator motor         \n",
       "COLLC   =                -7038 / The position of the C collimator motor         \n",
       "HARTMANN= 'Out     '           / Hartmanns: Left,Right,Out                      \n",
       "MC1HUMHT=                  2.4 / sp1 mech Hartmann humidity, %                  \n",
       "MC1HUMCO=                  0.6 / sp1 mech Central optics humidity, %            \n",
       "MC1TEMDN=                  1.1 / sp1 mech Median temp, C                        \n",
       "MC1THT  =                  0.5 / sp1 mech Hartmann Top Temp, C                  \n",
       "MC1TRCB =                  1.0 / sp1 mech Red Cam Bottom Temp, C                \n",
       "MC1TRCT =                  1.4 / sp1 mech Red Cam Top Temp, C                   \n",
       "MC1TBCB =                  1.1 / sp1 mech Blue Cam Bottom Temp, C               \n",
       "MC1TBCT =                  1.2 / sp1 mech Blue Cam Top Temp, C                  \n",
       "NEXP    =                    8 /Number of Coadded Exposures                     \n",
       "BESTEXP =               338668 /                                                \n",
       "EXPID01 = 'b1-00338663-00338671-00338670' / ID string for exposure 1            \n",
       "EXPID02 = 'b1-00338664-00338671-00338670' / ID string for exposure 2            \n",
       "EXPID03 = 'b1-00338665-00338671-00338670' / ID string for exposure 3            \n",
       "EXPID04 = 'b1-00338666-00338671-00338670' / ID string for exposure 4            \n",
       "EXPID05 = 'b1-00338667-00338671-00338670' / ID string for exposure 5            \n",
       "EXPID06 = 'b1-00338668-00338671-00338670' / ID string for exposure 6            \n",
       "EXPID07 = 'b1-00338669-00338671-00338670' / ID string for exposure 7            \n",
       "EXPID08 = 'b1-00338672-00338671-00338670' / ID string for exposure 8            \n",
       "EXPID09 = 'r1-00338663-00338671-00338670' / ID string for exposure 9            \n",
       "EXPID10 = 'r1-00338664-00338671-00338670' / ID string for exposure 10           \n",
       "EXPID11 = 'r1-00338665-00338671-00338670' / ID string for exposure 11           \n",
       "EXPID12 = 'r1-00338666-00338671-00338670' / ID string for exposure 12           \n",
       "EXPID13 = 'r1-00338667-00338671-00338670' / ID string for exposure 13           \n",
       "EXPID14 = 'r1-00338668-00338671-00338670' / ID string for exposure 14           \n",
       "EXPID15 = 'r1-00338669-00338671-00338670' / ID string for exposure 15           \n",
       "EXPID16 = 'r1-00338672-00338671-00338670' / ID string for exposure 16           \n",
       "NEXP_B1 =                    8 / b1 camera number of exposures                  \n",
       "NEXP_R1 =                    8 / r1 camera number of exposures                  \n",
       "EXPT_B1 =              7200.53 / b1 camera exposure time (seconds)              \n",
       "EXPT_R1 =              7200.53 / r1 camera exposure time (seconds)              \n",
       "EXPTIME =        7200.52997803 /Total Exposure time in seconds of integration   \n",
       "SPCOADD = 'Thu Mar 10 16:17:39 2022' / SPCOADD finished                         \n",
       "LN2TEMP =        94.7790379055 /                                                \n",
       "CCDTEMP =       -99.8526005719 /                                                \n",
       "AUTHOR  = 'Scott Burles & David Schlegel' /                                     \n",
       "VERSIDL = '8.8.0   '           / Version of IDL                                 \n",
       "VERSUTIL= 'v5_5_17 '           / Version of idlutils                            \n",
       "VERSREAD= 'v6_0_6  '           / Version of idlspec2d for pre-processing raw dat\n",
       "VERS2D  = 'v6_0_6  '           / Version of idlspec2d for 2D reduction          \n",
       "VERSCOMB= 'v6_0_6  '           / Version of idlspec2d for combining multiple spe\n",
       "VERSLOG = 'trunk 27531'        / Version of SPECLOG product                     \n",
       "VERSFLAT= 'v1_32   '           / Version of SPECFLAT product                    \n",
       "TWOPHASE=                    F /                                                \n",
       "RDNOISE0=              2.11939 /CCD read noise amp 0 [electrons]                \n",
       "BADPIXEL= 'badpixels-58736-b1.fits.gz' /                                        \n",
       "RUN2D   = 'master  '           / Spectro-2D reduction name                      \n",
       "REDDEN01=              0.00000 / Median extinction in u-band                    \n",
       "REDDEN02=              0.00000 / Median extinction in g-band                    \n",
       "REDDEN03=              0.00000 / Median extinction in r-band                    \n",
       "REDDEN04=              0.00000 / Median extinction in i-band                    \n",
       "REDDEN05=              0.00000 / Median extinction in z-band                    \n",
       "WDISPR  =              3.17610 /                                                \n",
       "CONFSFIL= 'confSummary-3932.par' /                                              \n",
       "LAMPLIST= 'lamphgcdne.dat'     /                                                \n",
       "SKYLIST = 'skylines.dat'       /                                                \n",
       "SIGBSH0 = '0.034   '           / 5577.3 line gaussian fit sigma position before \n",
       "CENBSH0 = '0.824   '           / 5577.3 line gaussian fit center position before\n",
       "AVGBSH0 = '0.822   '           / 5577.3 line average position before shift (pixe\n",
       "STDBSH0 = '0.029   '           / 5577.3 line std position before shift (pixels) \n",
       "AVGASH0 = '-0.000  '           / 5577.3 line average position after shift (pixel\n",
       "STDASH0 = '0.019   '           / 5577.3 line std position after shift (pixels)  \n",
       "VACUUM  =                    T / Wavelengths are in vacuum                      \n",
       "SFLATTEN=                    T / Superflat has been applied                     \n",
       "PSFSKY  =                    3 / Order of PSF skysubtraction                    \n",
       "PREJECT =             0.200000 / Profile area rejection threshold               \n",
       "SPEC1_G =              42.2885 / (S/N)^2 for spec  1 at mag 21.20               \n",
       "SN2EXT1G=              42.2885 / Extinction corrected (S/N)^2                   \n",
       "SPEC1_R =              117.529 / (S/N)^2 for spec  1 at mag 20.20               \n",
       "SN2EXT1R=              117.529 / Extinction corrected (S/N)^2                   \n",
       "SPEC1_I =              102.765 / (S/N)^2 for spec  1 at mag 20.20               \n",
       "SN2EXT1I=              102.765 / Extinction corrected (S/N)^2                   \n",
       "NSTD    =                   67 / Number of (good) std stars                     \n",
       "GOFFSTD =            0.0165119 / Spectrophoto offset for std stars in G-band    \n",
       "GRMSSTD =             0.193164 / Spectrophoto RMS for std stars in G-band       \n",
       "ROFFSTD =            0.0213032 / Spectrophoto offset for std stars in R-band    \n",
       "RRMSSTD =             0.165976 / Spectrophoto RMS for std stars in R-band       \n",
       "IOFFSTD =            0.0247688 / Spectrophoto offset for std stars in I-band    \n",
       "IRMSSTD =             0.179751 / Spectrophoto RMS for std stars in I-band       \n",
       "GROFFSTD=          -0.00992966 / Spectrophoto offset for std stars in (GR)      \n",
       "GRRMSSTD=             0.101699 / Spectrophoto RMS for std stars in (GR)         \n",
       "RIOFFSTD=           -0.0101070 / Spectrophoto offset for std stars in (RI)      \n",
       "RIRMSSTD=            0.0409404 / Spectrophoto RMS for std stars in (RI)         \n",
       "NGAL    =                   67 / Number of (good) main galaxies                 \n",
       "GOFFGAL =            0.0165119 / Spectrophoto offset for main galaxies in G-band\n",
       "GRMSGAL =             0.193164 / Spectrophoto RMS for main galaxies in G-band   \n",
       "ROFFGAL =            0.0213032 / Spectrophoto offset for main galaxies in R-band\n",
       "RRMSGAL =             0.165976 / Spectrophoto RMS for main galaxies in R-band   \n",
       "IOFFGAL =            0.0247688 / Spectrophoto offset for main galaxies in I-band\n",
       "IRMSGAL =             0.179751 / Spectrophoto RMS for main galaxies in I-band   \n",
       "GROFFGAL=          -0.00992966 / Spectrophoto offset for main galaxies in (GR)  \n",
       "GRRMSGAL=             0.101699 / Spectrophoto RMS for main galaxies in (GR)     \n",
       "RIOFFGAL=           -0.0101070 / Spectrophoto offset for main galaxies in (RI)  \n",
       "RIRMSGAL=            0.0409404 / Spectrophoto RMS for main galaxies in (RI)     \n",
       "SNC01G00=              1.50687 / SN fit coeff for spec 1, exp 00 at G-band      \n",
       "SNC11G00=              1.00000 / SN fit coeff for spec 1, exp 00 at G-band      \n",
       "SN2_1G00=              5.77485 / (S/N)^2 for spec  1, exp 00 at mag 21.20 at G-b\n",
       "SNC01R00=              1.50018 / SN fit coeff for spec 1, exp 00 at R-band      \n",
       "SNC11R00=              1.00000 / SN fit coeff for spec 1, exp 00 at R-band      \n",
       "SN2_1R00=              16.7101 / (S/N)^2 for spec  1, exp 00 at mag 20.20 at R-b\n",
       "SNC01I00=              1.44829 / SN fit coeff for spec 1, exp 00 at I-band      \n",
       "SNC11I00=              1.00000 / SN fit coeff for spec 1, exp 00 at I-band      \n",
       "SN2_1I00=              15.5743 / (S/N)^2 for spec  1, exp 00 at mag 20.20 at I-b\n",
       "SNC01G01=              1.50997 / SN fit coeff for spec 1, exp 01 at G-band      \n",
       "SNC11G01=              1.00000 / SN fit coeff for spec 1, exp 01 at G-band      \n",
       "SN2_1G01=              5.79862 / (S/N)^2 for spec  1, exp 01 at mag 21.20 at G-b\n",
       "SNC01R01=              1.49496 / SN fit coeff for spec 1, exp 01 at R-band      \n",
       "SNC11R01=              1.00000 / SN fit coeff for spec 1, exp 01 at R-band      \n",
       "SN2_1R01=              16.5940 / (S/N)^2 for spec  1, exp 01 at mag 20.20 at R-b\n",
       "SNC01I01=              1.43956 / SN fit coeff for spec 1, exp 01 at I-band      \n",
       "SNC11I01=              1.00000 / SN fit coeff for spec 1, exp 01 at I-band      \n",
       "SN2_1I01=              15.3869 / (S/N)^2 for spec  1, exp 01 at mag 20.20 at I-b\n",
       "SNC01G02=              1.52079 / SN fit coeff for spec 1, exp 02 at G-band      \n",
       "SNC11G02=              1.00000 / SN fit coeff for spec 1, exp 02 at G-band      \n",
       "SN2_1G02=              5.88202 / (S/N)^2 for spec  1, exp 02 at mag 21.20 at G-b\n",
       "SNC01R02=              1.50055 / SN fit coeff for spec 1, exp 02 at R-band      \n",
       "SNC11R02=              1.00000 / SN fit coeff for spec 1, exp 02 at R-band      \n",
       "SN2_1R02=              16.7184 / (S/N)^2 for spec  1, exp 02 at mag 20.20 at R-b\n",
       "SNC01I02=              1.43938 / SN fit coeff for spec 1, exp 02 at I-band      \n",
       "SNC11I02=              1.00000 / SN fit coeff for spec 1, exp 02 at I-band      \n",
       "SN2_1I02=              15.3831 / (S/N)^2 for spec  1, exp 02 at mag 20.20 at I-b\n",
       "SNC01G03=              1.50681 / SN fit coeff for spec 1, exp 03 at G-band      \n",
       "SNC11G03=              1.00000 / SN fit coeff for spec 1, exp 03 at G-band      \n",
       "SN2_1G03=              5.77441 / (S/N)^2 for spec  1, exp 03 at mag 21.20 at G-b\n",
       "SNC01R03=              1.49363 / SN fit coeff for spec 1, exp 03 at R-band      \n",
       "SNC11R03=              1.00000 / SN fit coeff for spec 1, exp 03 at R-band      \n",
       "SN2_1R03=              16.5645 / (S/N)^2 for spec  1, exp 03 at mag 20.20 at R-b\n",
       "SNC01I03=              1.43314 / SN fit coeff for spec 1, exp 03 at I-band      \n",
       "SNC11I03=              1.00000 / SN fit coeff for spec 1, exp 03 at I-band      \n",
       "SN2_1I03=              15.2501 / (S/N)^2 for spec  1, exp 03 at mag 20.20 at I-b\n",
       "SNC01G04=              1.52006 / SN fit coeff for spec 1, exp 04 at G-band      \n",
       "SNC11G04=              1.00000 / SN fit coeff for spec 1, exp 04 at G-band      \n",
       "SN2_1G04=              5.87642 / (S/N)^2 for spec  1, exp 04 at mag 21.20 at G-b\n",
       "SNC01R04=              1.50391 / SN fit coeff for spec 1, exp 04 at R-band      \n",
       "SNC11R04=              1.00000 / SN fit coeff for spec 1, exp 04 at R-band      \n",
       "SN2_1R04=              16.7934 / (S/N)^2 for spec  1, exp 04 at mag 20.20 at R-b\n",
       "SNC01I04=              1.44122 / SN fit coeff for spec 1, exp 04 at I-band      \n",
       "SNC11I04=              1.00000 / SN fit coeff for spec 1, exp 04 at I-band      \n",
       "SN2_1I04=              15.4225 / (S/N)^2 for spec  1, exp 04 at mag 20.20 at I-b\n",
       "SNC01G05=              1.53578 / SN fit coeff for spec 1, exp 05 at G-band      \n",
       "SNC11G05=              1.00000 / SN fit coeff for spec 1, exp 05 at G-band      \n",
       "SN2_1G05=              5.99862 / (S/N)^2 for spec  1, exp 05 at mag 21.20 at G-b\n",
       "SNC01R05=              1.51584 / SN fit coeff for spec 1, exp 05 at R-band      \n",
       "SNC11R05=              1.00000 / SN fit coeff for spec 1, exp 05 at R-band      \n",
       "SN2_1R05=              17.0608 / (S/N)^2 for spec  1, exp 05 at mag 20.20 at R-b\n",
       "SNC01I05=              1.44606 / SN fit coeff for spec 1, exp 05 at I-band      \n",
       "SNC11I05=              1.00000 / SN fit coeff for spec 1, exp 05 at I-band      \n",
       "SN2_1I05=              15.5262 / (S/N)^2 for spec  1, exp 05 at mag 20.20 at I-b\n",
       "SNC01G06=              1.50082 / SN fit coeff for spec 1, exp 06 at G-band      \n",
       "SNC11G06=              1.00000 / SN fit coeff for spec 1, exp 06 at G-band      \n",
       "SN2_1G06=              5.72858 / (S/N)^2 for spec  1, exp 06 at mag 21.20 at G-b\n",
       "SNC01R06=              1.48485 / SN fit coeff for spec 1, exp 06 at R-band      \n",
       "SNC11R06=              1.00000 / SN fit coeff for spec 1, exp 06 at R-band      \n",
       "SN2_1R06=              16.3703 / (S/N)^2 for spec  1, exp 06 at mag 20.20 at R-b\n",
       "SNC01I06=              1.41703 / SN fit coeff for spec 1, exp 06 at I-band      \n",
       "SNC11I06=              1.00000 / SN fit coeff for spec 1, exp 06 at I-band      \n",
       "SN2_1I06=              14.9091 / (S/N)^2 for spec  1, exp 06 at mag 20.20 at I-b\n",
       "SNC01G07=              1.51932 / SN fit coeff for spec 1, exp 07 at G-band      \n",
       "SNC11G07=              1.00000 / SN fit coeff for spec 1, exp 07 at G-band      \n",
       "SN2_1G07=              5.87070 / (S/N)^2 for spec  1, exp 07 at mag 21.20 at G-b\n",
       "SNC01R07=              1.47369 / SN fit coeff for spec 1, exp 07 at R-band      \n",
       "SNC11R07=              1.00000 / SN fit coeff for spec 1, exp 07 at R-band      \n",
       "SN2_1R07=              16.1253 / (S/N)^2 for spec  1, exp 07 at mag 20.20 at R-b\n",
       "SNC01I07=              1.38257 / SN fit coeff for spec 1, exp 07 at I-band      \n",
       "SNC11I07=              1.00000 / SN fit coeff for spec 1, exp 07 at I-band      \n",
       "SN2_1I07=              14.1928 / (S/N)^2 for spec  1, exp 07 at mag 20.20 at I-b\n",
       "SNC01G  =              4.07771 / Total SN fit coeff for spec 1 at G-band        \n",
       "SNC11G  =              1.00000 / Total SN fit coeff for spec 1 at G-band        \n",
       "SNC01R  =              3.97855 / Total SN fit coeff for spec 1 at R-band        \n",
       "SNC11R  =              1.00000 / Total SN fit coeff for spec 1 at R-band        \n",
       "SNC01I  =              3.72028 / Total SN fit coeff for spec 1 at I-band        \n",
       "SNC11I  =              1.00000 / Total SN fit coeff for spec 1 at I-band        \n",
       "LOWREJ  =                    4 / Extraction: low rejection                      \n",
       "HIGHREJ =                   50 / Extraction: high rejection                     \n",
       "SCATPOLY=                    0 / Extraction: Order of scattered light polynomial\n",
       "PROFTYPE=                    1 / Extraction profile: 1=Gaussian                 \n",
       "NFITPOLY=                    1 / Extraction: Number of parameters in each profil\n",
       "NWORDER =                    2 / Linear-log10 coefficients                      \n",
       "WFITTYPE= 'LOG-LINEAR'         / Linear-log10 dispersion                        \n",
       "COEFF0  =              3.55230 / Central wavelength (log10) of first pixel      \n",
       "COEFF1  =    0.000100000000000 / Log10 dispersion per pixel                     \n",
       "UNAME   = 'notch278'           /                                                \n",
       "FBADPIX =            0.0113303 / Fraction of bad pixels                         \n",
       "FBADPIX1=            0.0113303 / Fraction of bad pixels on spectro-1            \n",
       "FBADPIX2=                    0 / Fraction of bad pixels on spectro-2            \n",
       "WAT0_001= 'system=linear'      /                                                \n",
       "WAT1_001= 'wtype=linear label=Wavelength units=Angstroms' /                     \n",
       "CRVAL1  =              3.55230 / Central wavelength (log10) of first pixel      \n",
       "CD1_1   =    0.000100000000000 / Log10 dispersion per pixel                     \n",
       "CRPIX1  =                    1 / Starting pixel (1-indexed)                     \n",
       "CTYPE1  = 'LINEAR  '           /                                                \n",
       "DC-FLAG =                    1 / Log-linear flag                                \n",
       "BUNIT   = '1E-17 erg/cm^2/s/Ang' /                                              \n",
       "PLUG_RA =        212.671880894 / RA of Target                                   \n",
       "PLUG_DEC=        53.3136120502 / DEC of Target                                  \n",
       "AZ      =        194.130903574 /Azimuth axis pos. (approx, deg)                 \n",
       "ALT     =        67.4794318342 /Altitude axis pos. (approx, deg)                \n",
       "AIRMASS =        1.08981862449 /Mean airmass                                    \n",
       "AIRTEMP =       -1.30021731797 /                                                \n",
       "DEWPOINT=       -14.5798451661 /                                                \n",
       "DUSTA   =        11043.0722391 /                                                \n",
       "DUSTB   =        647.298015022 /                                                \n",
       "GUSTS   =        10.6656246707 /                                                \n",
       "HUMIDITY=        29.8490034207 /                                                \n",
       "PRESSURE=        21.2220580874 /                                                \n",
       "WINDD   =        259.966467914 /                                                \n",
       "WINDS   =        8.51363870903 /                                                \n",
       "HELIO_RV=       -2.53624364516 /Heliocentric correction (added to velocities)   \n",
       "SEEING20=        1.26785855219 /20% seeing during exposure (arcsec)             \n",
       "SEEING50=        1.36946655659 /50% seeing during exposure (arcsec)             \n",
       "SEEING80=        1.50234552941 /80% seeing during exposure (arcsec)             \n",
       "RMSOFF20=      0.0461677457651 /20% RMS offset of guide fibers (arcsec)         \n",
       "RMSOFF50=      0.0824461850274 /50% RMS offset of guide fibers (arcsec)         \n",
       "RMSOFF80=       0.135415787196 /80% RMS offset of guide fibers (arcsec)         \n",
       "SKYCHI2 =       0.881699857942 /Mean chi^2 of sky-subtraction                   \n",
       "SCHI2MIN=       0.787860047823 /Minimim chi^2 of sky-subtraction                \n",
       "SCHI2MAX=       0.920911028464 /Maximim chi^2 of sky-subtraction                \n",
       "WSIGMA  =        1.12668001652 /                                                \n",
       "WSIGMIN =              1.12668 /                                                \n",
       "WSIGMAX =              1.12668 /                                                \n",
       "XSIGMA  =        1.08209002018 /                                                \n",
       "XSIGMIN =              1.08209 /                                                \n",
       "XSIGMAX =              1.08209 /                                                \n",
       "TAI-BEG =        5153622136.00 /MJD(TAI) seconds at start of integrations       \n",
       "TAI-END =        5153631318.06 /MJD(TAI) seconds at End of integrations         \n",
       "NGUIDE  =              215.000 /Number of guider frames during integration      "
      ]
     },
     "execution_count": 7,
     "metadata": {},
     "output_type": "execute_result"
    }
   ],
   "source": [
    "dataFile[0].header"
   ]
  },
  {
   "cell_type": "markdown",
   "metadata": {},
   "source": [
    "You can see that there is a littany of information here and most of it does not concern us! To get a list of all the keywords in the header, we can use the following command:"
   ]
  },
  {
   "cell_type": "code",
   "execution_count": 8,
   "metadata": {},
   "outputs": [
    {
     "data": {
      "text/plain": [
       "['SIMPLE',\n",
       " 'BITPIX',\n",
       " 'NAXIS',\n",
       " 'NAXIS1',\n",
       " 'EXTEND',\n",
       " 'TELESCOP',\n",
       " 'V_BOSS',\n",
       " 'CAMDAQ',\n",
       " 'SUBFRAME',\n",
       " 'ERRCNT',\n",
       " 'SYNCERR',\n",
       " 'SLINES',\n",
       " 'PIXERR',\n",
       " 'PLINES',\n",
       " 'PFERR',\n",
       " 'DIDFLUSH',\n",
       " 'FLAVOR',\n",
       " 'MJD',\n",
       " 'CARTID',\n",
       " 'FIELDID',\n",
       " 'VJAEGER',\n",
       " 'VKAIJU',\n",
       " 'VCOORDIO',\n",
       " 'VCALIBS',\n",
       " 'OBJSYS',\n",
       " 'RA',\n",
       " 'DEC',\n",
       " 'EQUINOX',\n",
       " 'RADECSYS',\n",
       " 'RADEG',\n",
       " 'DECDEG',\n",
       " 'ROTTYPE',\n",
       " 'ROTPOS',\n",
       " 'BOREOFFX',\n",
       " 'BOREOFFY',\n",
       " 'ARCOFFX',\n",
       " 'ARCOFFY',\n",
       " 'CALOFFX',\n",
       " 'CALOFFY',\n",
       " 'CALOFFR',\n",
       " 'GUIDOFFX',\n",
       " 'GUIDOFFY',\n",
       " 'GUIDOFFR',\n",
       " 'FOCUS',\n",
       " 'M2PISTON',\n",
       " 'M2XTILT',\n",
       " 'M2YTILT',\n",
       " 'M2XTRAN',\n",
       " 'M2YTRAN',\n",
       " 'M2ZROT',\n",
       " 'M1PISTON',\n",
       " 'M1XTILT',\n",
       " 'M1YTILT',\n",
       " 'M1XTRAN',\n",
       " 'M1YTRAN',\n",
       " 'M1ZROT',\n",
       " 'SCALE',\n",
       " 'V_APO',\n",
       " 'GUSTD',\n",
       " 'TRUSTEMP',\n",
       " 'WINDD25M',\n",
       " 'WINDS25M',\n",
       " 'SLITID1',\n",
       " 'COLLA',\n",
       " 'COLLB',\n",
       " 'COLLC',\n",
       " 'HARTMANN',\n",
       " 'MC1HUMHT',\n",
       " 'MC1HUMCO',\n",
       " 'MC1TEMDN',\n",
       " 'MC1THT',\n",
       " 'MC1TRCB',\n",
       " 'MC1TRCT',\n",
       " 'MC1TBCB',\n",
       " 'MC1TBCT',\n",
       " 'NEXP',\n",
       " 'BESTEXP',\n",
       " 'EXPID01',\n",
       " 'EXPID02',\n",
       " 'EXPID03',\n",
       " 'EXPID04',\n",
       " 'EXPID05',\n",
       " 'EXPID06',\n",
       " 'EXPID07',\n",
       " 'EXPID08',\n",
       " 'EXPID09',\n",
       " 'EXPID10',\n",
       " 'EXPID11',\n",
       " 'EXPID12',\n",
       " 'EXPID13',\n",
       " 'EXPID14',\n",
       " 'EXPID15',\n",
       " 'EXPID16',\n",
       " 'NEXP_B1',\n",
       " 'NEXP_R1',\n",
       " 'EXPT_B1',\n",
       " 'EXPT_R1',\n",
       " 'EXPTIME',\n",
       " 'SPCOADD',\n",
       " 'LN2TEMP',\n",
       " 'CCDTEMP',\n",
       " 'AUTHOR',\n",
       " 'VERSIDL',\n",
       " 'VERSUTIL',\n",
       " 'VERSREAD',\n",
       " 'VERS2D',\n",
       " 'VERSCOMB',\n",
       " 'VERSLOG',\n",
       " 'VERSFLAT',\n",
       " 'TWOPHASE',\n",
       " 'RDNOISE0',\n",
       " 'BADPIXEL',\n",
       " 'RUN2D',\n",
       " 'REDDEN01',\n",
       " 'REDDEN02',\n",
       " 'REDDEN03',\n",
       " 'REDDEN04',\n",
       " 'REDDEN05',\n",
       " 'WDISPR',\n",
       " 'CONFSFIL',\n",
       " 'LAMPLIST',\n",
       " 'SKYLIST',\n",
       " 'SIGBSH0',\n",
       " 'CENBSH0',\n",
       " 'AVGBSH0',\n",
       " 'STDBSH0',\n",
       " 'AVGASH0',\n",
       " 'STDASH0',\n",
       " 'VACUUM',\n",
       " 'SFLATTEN',\n",
       " 'PSFSKY',\n",
       " 'PREJECT',\n",
       " 'SPEC1_G',\n",
       " 'SN2EXT1G',\n",
       " 'SPEC1_R',\n",
       " 'SN2EXT1R',\n",
       " 'SPEC1_I',\n",
       " 'SN2EXT1I',\n",
       " 'NSTD',\n",
       " 'GOFFSTD',\n",
       " 'GRMSSTD',\n",
       " 'ROFFSTD',\n",
       " 'RRMSSTD',\n",
       " 'IOFFSTD',\n",
       " 'IRMSSTD',\n",
       " 'GROFFSTD',\n",
       " 'GRRMSSTD',\n",
       " 'RIOFFSTD',\n",
       " 'RIRMSSTD',\n",
       " 'NGAL',\n",
       " 'GOFFGAL',\n",
       " 'GRMSGAL',\n",
       " 'ROFFGAL',\n",
       " 'RRMSGAL',\n",
       " 'IOFFGAL',\n",
       " 'IRMSGAL',\n",
       " 'GROFFGAL',\n",
       " 'GRRMSGAL',\n",
       " 'RIOFFGAL',\n",
       " 'RIRMSGAL',\n",
       " 'SNC01G00',\n",
       " 'SNC11G00',\n",
       " 'SN2_1G00',\n",
       " 'SNC01R00',\n",
       " 'SNC11R00',\n",
       " 'SN2_1R00',\n",
       " 'SNC01I00',\n",
       " 'SNC11I00',\n",
       " 'SN2_1I00',\n",
       " 'SNC01G01',\n",
       " 'SNC11G01',\n",
       " 'SN2_1G01',\n",
       " 'SNC01R01',\n",
       " 'SNC11R01',\n",
       " 'SN2_1R01',\n",
       " 'SNC01I01',\n",
       " 'SNC11I01',\n",
       " 'SN2_1I01',\n",
       " 'SNC01G02',\n",
       " 'SNC11G02',\n",
       " 'SN2_1G02',\n",
       " 'SNC01R02',\n",
       " 'SNC11R02',\n",
       " 'SN2_1R02',\n",
       " 'SNC01I02',\n",
       " 'SNC11I02',\n",
       " 'SN2_1I02',\n",
       " 'SNC01G03',\n",
       " 'SNC11G03',\n",
       " 'SN2_1G03',\n",
       " 'SNC01R03',\n",
       " 'SNC11R03',\n",
       " 'SN2_1R03',\n",
       " 'SNC01I03',\n",
       " 'SNC11I03',\n",
       " 'SN2_1I03',\n",
       " 'SNC01G04',\n",
       " 'SNC11G04',\n",
       " 'SN2_1G04',\n",
       " 'SNC01R04',\n",
       " 'SNC11R04',\n",
       " 'SN2_1R04',\n",
       " 'SNC01I04',\n",
       " 'SNC11I04',\n",
       " 'SN2_1I04',\n",
       " 'SNC01G05',\n",
       " 'SNC11G05',\n",
       " 'SN2_1G05',\n",
       " 'SNC01R05',\n",
       " 'SNC11R05',\n",
       " 'SN2_1R05',\n",
       " 'SNC01I05',\n",
       " 'SNC11I05',\n",
       " 'SN2_1I05',\n",
       " 'SNC01G06',\n",
       " 'SNC11G06',\n",
       " 'SN2_1G06',\n",
       " 'SNC01R06',\n",
       " 'SNC11R06',\n",
       " 'SN2_1R06',\n",
       " 'SNC01I06',\n",
       " 'SNC11I06',\n",
       " 'SN2_1I06',\n",
       " 'SNC01G07',\n",
       " 'SNC11G07',\n",
       " 'SN2_1G07',\n",
       " 'SNC01R07',\n",
       " 'SNC11R07',\n",
       " 'SN2_1R07',\n",
       " 'SNC01I07',\n",
       " 'SNC11I07',\n",
       " 'SN2_1I07',\n",
       " 'SNC01G',\n",
       " 'SNC11G',\n",
       " 'SNC01R',\n",
       " 'SNC11R',\n",
       " 'SNC01I',\n",
       " 'SNC11I',\n",
       " 'LOWREJ',\n",
       " 'HIGHREJ',\n",
       " 'SCATPOLY',\n",
       " 'PROFTYPE',\n",
       " 'NFITPOLY',\n",
       " 'NWORDER',\n",
       " 'WFITTYPE',\n",
       " 'COEFF0',\n",
       " 'COEFF1',\n",
       " 'UNAME',\n",
       " 'FBADPIX',\n",
       " 'FBADPIX1',\n",
       " 'FBADPIX2',\n",
       " 'WAT0_001',\n",
       " 'WAT1_001',\n",
       " 'CRVAL1',\n",
       " 'CD1_1',\n",
       " 'CRPIX1',\n",
       " 'CTYPE1',\n",
       " 'DC-FLAG',\n",
       " 'BUNIT',\n",
       " 'PLUG_RA',\n",
       " 'PLUG_DEC',\n",
       " 'AZ',\n",
       " 'ALT',\n",
       " 'AIRMASS',\n",
       " 'AIRTEMP',\n",
       " 'DEWPOINT',\n",
       " 'DUSTA',\n",
       " 'DUSTB',\n",
       " 'GUSTS',\n",
       " 'HUMIDITY',\n",
       " 'PRESSURE',\n",
       " 'WINDD',\n",
       " 'WINDS',\n",
       " 'HELIO_RV',\n",
       " 'SEEING20',\n",
       " 'SEEING50',\n",
       " 'SEEING80',\n",
       " 'RMSOFF20',\n",
       " 'RMSOFF50',\n",
       " 'RMSOFF80',\n",
       " 'SKYCHI2',\n",
       " 'SCHI2MIN',\n",
       " 'SCHI2MAX',\n",
       " 'WSIGMA',\n",
       " 'WSIGMIN',\n",
       " 'WSIGMAX',\n",
       " 'XSIGMA',\n",
       " 'XSIGMIN',\n",
       " 'XSIGMAX',\n",
       " 'TAI-BEG',\n",
       " 'TAI-END',\n",
       " 'NGUIDE']"
      ]
     },
     "execution_count": 8,
     "metadata": {},
     "output_type": "execute_result"
    }
   ],
   "source": [
    "headerKeyList = list(dataFile[0].header.keys())\n",
    "\n",
    "headerKeyList"
   ]
  },
  {
   "cell_type": "markdown",
   "metadata": {},
   "source": [
    "Let's figure out where this object is in the sky by determining it's RA (Right Ascension) and Dec (Declination.\n",
    "\n",
    "*For more info about RA and Dec, see:* \n",
    "\n",
    "https://skyandtelescope.org/astronomy-resources/right-ascension-declination-celestial-coordinates/#:~:text=Declination%20(green)%20is%20measured%20in,sky%2C%20which%20defines%20the%20ecliptic."
   ]
  },
  {
   "cell_type": "code",
   "execution_count": 9,
   "metadata": {},
   "outputs": [
    {
     "name": "stdout",
     "output_type": "stream",
     "text": [
      "The coordinates of this object are RA: 213.69958 and Dec: 53.07407\n"
     ]
    }
   ],
   "source": [
    "RA = dataFile[0].header['RA']\n",
    "Dec = dataFile[0].header['Dec']\n",
    "\n",
    "print('The coordinates of this object are RA: {RightAscension} and Dec: {Declination}'.format(RightAscension = RA, Declination = Dec ))"
   ]
  },
  {
   "cell_type": "markdown",
   "metadata": {},
   "source": [
    "So, we can index the header to get relevant information so long as what we are indexing (i.e. 'RA' or 'Dec') is in the list of keys!"
   ]
  },
  {
   "cell_type": "markdown",
   "metadata": {},
   "source": [
    "Let's go on and see what's happening with the COADD!"
   ]
  },
  {
   "cell_type": "code",
   "execution_count": 10,
   "metadata": {},
   "outputs": [],
   "source": [
    "coadd = dataFile[1]"
   ]
  },
  {
   "cell_type": "code",
   "execution_count": 11,
   "metadata": {},
   "outputs": [
    {
     "data": {
      "text/plain": [
       "XTENSION= 'BINTABLE'           /Binary table written by MWRFITS v1.11           \n",
       "BITPIX  =                    8 /Required value                                  \n",
       "NAXIS   =                    2 /Required value                                  \n",
       "NAXIS1  =                   32 /Number of bytes per row                         \n",
       "NAXIS2  =                 4648 /Number of rows                                  \n",
       "PCOUNT  =                    0 /Normally 0 (no varying arrays)                  \n",
       "GCOUNT  =                    1 /Required value                                  \n",
       "TFIELDS =                    8 /Number of columns in table                      \n",
       "COMMENT                                                                         \n",
       "COMMENT  *** End of mandatory fields ***                                        \n",
       "COMMENT                                                                         \n",
       "EXTNAME = 'COADD   '           / Coadded spectrum                               \n",
       "COMMENT                                                                         \n",
       "COMMENT  *** Column names ***                                                   \n",
       "COMMENT                                                                         \n",
       "TTYPE1  = 'FLUX    '           /                                                \n",
       "TTYPE2  = 'LOGLAM  '           /                                                \n",
       "TTYPE3  = 'IVAR    '           /                                                \n",
       "TTYPE4  = 'AND_MASK'           /                                                \n",
       "TTYPE5  = 'OR_MASK '           /                                                \n",
       "TTYPE6  = 'WDISP   '           /                                                \n",
       "TTYPE7  = 'SKY     '           /                                                \n",
       "TTYPE8  = 'WRESL   '           /                                                \n",
       "COMMENT                                                                         \n",
       "COMMENT  *** Column formats ***                                                 \n",
       "COMMENT                                                                         \n",
       "TFORM1  = 'E       '           /                                                \n",
       "TFORM2  = 'E       '           /                                                \n",
       "TFORM3  = 'E       '           /                                                \n",
       "TFORM4  = 'J       '           /                                                \n",
       "TFORM5  = 'J       '           /                                                \n",
       "TFORM6  = 'E       '           /                                                \n",
       "TFORM7  = 'E       '           /                                                \n",
       "TFORM8  = 'E       '           /                                                "
      ]
     },
     "execution_count": 11,
     "metadata": {},
     "output_type": "execute_result"
    }
   ],
   "source": [
    "coadd.header"
   ]
  },
  {
   "cell_type": "markdown",
   "metadata": {},
   "source": [
    "We see that, in the TFIELDS variable, that there are 8 columns in the COADD. Further down in the header we see that the names of these columns are as follows:\n",
    "1. Flux: how bright the object is at a certain pixel value\n",
    "2. Loglam: $log_{10}$(wavelength)\n",
    "3. Ivar: inverse variance\n",
    "4. And_mask: denotes rows where data is flagged in all columns\n",
    "5. Or_mask: denotes rows where data is flagged in one column\n",
    "6. Wdisp: wavelength dispersion\n",
    "7. Sky: subtracted sky flux\n",
    "8. Wresl: pipeline best model fit used for classification and redshift\n",
    "\n",
    "Unless explicitly told, we only really care about 3 of them, namely:\n",
    "1. Flux\n",
    "2. Loglam\n",
    "3. Ivar\n",
    "\n",
    "So, now let's look at the data."
   ]
  },
  {
   "cell_type": "code",
   "execution_count": 12,
   "metadata": {},
   "outputs": [
    {
     "data": {
      "text/plain": [
       "FITS_rec([( 8.149794  , 3.5523   , 0.30019125,        0,        0, 1.2509367, 6.1061606, 2.708102 ),\n",
       "          (11.411673  , 3.5523999, 0.2584076 ,        0,        0, 1.2511561, 5.660274 , 2.7087708),\n",
       "          (16.191307  , 3.5525   , 0.22675203,        0,   589824, 1.2513595, 5.6410027, 2.7094107),\n",
       "          ...,\n",
       "          ( 0.58577645, 4.0168   , 0.        , 83886080, 83886080, 0.       , 0.       , 0.       ),\n",
       "          ( 0.58577716, 4.0169   , 0.        , 83886080, 83886080, 0.       , 0.       , 0.       ),\n",
       "          ( 0.585778  , 4.017    , 0.        , 83886080, 83886080, 0.       , 0.       , 0.       )],\n",
       "         dtype=(numpy.record, [('FLUX', '>f4'), ('LOGLAM', '>f4'), ('IVAR', '>f4'), ('AND_MASK', '>i4'), ('OR_MASK', '>i4'), ('WDISP', '>f4'), ('SKY', '>f4'), ('WRESL', '>f4')]))"
      ]
     },
     "execution_count": 12,
     "metadata": {},
     "output_type": "execute_result"
    }
   ],
   "source": [
    "coadd.data"
   ]
  },
  {
   "cell_type": "markdown",
   "metadata": {},
   "source": [
    "It looks like a mess of numbers, but don't worry! The first column in the array above is the flux, the second column is the loglam, the third column is the ivar, and so on and so forth!\n",
    "\n",
    "So, let's get the flux, loglam and ivar and save those arrays to variables! To do that, we put\n",
    "```Python\n",
    ".field('NAME')\n",
    "```\n",
    "after coadd.data! Where 'NAME' is listed in the column names of the header!"
   ]
  },
  {
   "cell_type": "code",
   "execution_count": 13,
   "metadata": {},
   "outputs": [],
   "source": [
    "flux = coadd.data.field('FLUX')\n",
    "loglam = coadd.data.field('LOGLAM')\n",
    "ivar = coadd.data.field('IVAR')"
   ]
  },
  {
   "cell_type": "code",
   "execution_count": 14,
   "metadata": {},
   "outputs": [
    {
     "data": {
      "text/plain": [
       "array([ 8.149794  , 11.411673  , 16.191307  , ...,  0.58577645,\n",
       "        0.58577716,  0.585778  ], dtype=float32)"
      ]
     },
     "execution_count": 14,
     "metadata": {},
     "output_type": "execute_result"
    }
   ],
   "source": [
    "flux"
   ]
  },
  {
   "cell_type": "code",
   "execution_count": 15,
   "metadata": {},
   "outputs": [
    {
     "data": {
      "text/plain": [
       "array([3.5523   , 3.5523999, 3.5525   , ..., 4.0168   , 4.0169   ,\n",
       "       4.017    ], dtype=float32)"
      ]
     },
     "execution_count": 15,
     "metadata": {},
     "output_type": "execute_result"
    }
   ],
   "source": [
    "loglam"
   ]
  },
  {
   "cell_type": "code",
   "execution_count": 16,
   "metadata": {},
   "outputs": [
    {
     "data": {
      "text/plain": [
       "array([0.30019125, 0.2584076 , 0.22675203, ..., 0.        , 0.        ,\n",
       "       0.        ], dtype=float32)"
      ]
     },
     "execution_count": 16,
     "metadata": {},
     "output_type": "execute_result"
    }
   ],
   "source": [
    "ivar"
   ]
  },
  {
   "cell_type": "markdown",
   "metadata": {},
   "source": [
    "So, we now have the flux of the object saved as an array. We have the $log_{10}$(wavelength) saved as an array and we have the inverse variance (ivar) saved as an array! Let's unpack these arrays a bit more and recreate the spectra of this object we are looking at!\n",
    "\n",
    "First, a spectra is a plot of flux (y-axis) vs. wavelength (x-axis)! So, we already have flux, so we don't need to do anything to that array! *However,* we need to manipulate the loglam array since it's $log_{10}$(wavelength)! So, let's do that recalling that to undo $log_{10}(x)$, we raise both sides by the base of 10. So,\n",
    "\n",
    "y = $log_{10}(x)$\n",
    "\n",
    "$10^{y}$ = x"
   ]
  },
  {
   "cell_type": "code",
   "execution_count": 17,
   "metadata": {},
   "outputs": [],
   "source": [
    "wavelength = 10**loglam"
   ]
  },
  {
   "cell_type": "code",
   "execution_count": 18,
   "metadata": {},
   "outputs": [
    {
     "data": {
      "text/plain": [
       "array([ 3566.9744,  3567.795 ,  3568.6177, ..., 10394.412 , 10396.809 ,\n",
       "       10399.206 ], dtype=float32)"
      ]
     },
     "execution_count": 18,
     "metadata": {},
     "output_type": "execute_result"
    }
   ],
   "source": [
    "wavelength"
   ]
  },
  {
   "cell_type": "markdown",
   "metadata": {},
   "source": [
    "So, we see that our wavelength array spans from 3566.9744 to 10399.206! These values are in Angstroms so we know that our data is in the **optical range** (4000 A - 7000 A) and then into the **near-infrared (near-IR)** range (7000 A - 50,000 A)! "
   ]
  },
  {
   "cell_type": "markdown",
   "metadata": {},
   "source": [
    "Since we have disentangled wavelength from loglam, let's take a look at the spectra! Again, this is flux (y-axis) vs. wavelength (x-axis)!\n",
    "\n",
    "So, let's first begin by importing matplotlib!"
   ]
  },
  {
   "cell_type": "code",
   "execution_count": 19,
   "metadata": {},
   "outputs": [],
   "source": [
    "import matplotlib.pyplot as plt"
   ]
  },
  {
   "cell_type": "markdown",
   "metadata": {},
   "source": [
    "Now, let's create our figure! To do that, we do the following!"
   ]
  },
  {
   "cell_type": "code",
   "execution_count": 20,
   "metadata": {},
   "outputs": [
    {
     "data": {
      "image/png": "[encoded data removed]",
      "text/plain": [
       "<Figure size 864x432 with 1 Axes>"
      ]
     },
     "metadata": {
      "needs_background": "light"
     },
     "output_type": "display_data"
    }
   ],
   "source": [
    "fig, ax = plt.subplots(1, sharex=True)\n",
    "fig.set_size_inches(12, 6)"
   ]
  },
  {
   "cell_type": "markdown",
   "metadata": {},
   "source": [
    "Now, let's add our axis labels!"
   ]
  },
  {
   "cell_type": "code",
   "execution_count": 21,
   "metadata": {},
   "outputs": [
    {
     "data": {
      "image/png": "[encoded data removed]",
      "text/plain": [
       "<Figure size 864x432 with 1 Axes>"
      ]
     },
     "execution_count": 21,
     "metadata": {},
     "output_type": "execute_result"
    }
   ],
   "source": [
    "ax.set(\n",
    "    ylabel = r\"$F_{\\lambda}$ ($10^{-17}$ ergs/s/$cm^{2}$/$\\AA$)\",\n",
    "    xlabel = r'Observed Frame Wavelength ($\\AA$)',\n",
    ")\n",
    "fig"
   ]
  },
  {
   "cell_type": "markdown",
   "metadata": {},
   "source": [
    "So, we've labeled the y-axis as flux ($F_{\\lambda}$) and put the units next to it! We have also labeled the x-axis as the observed-frame wavelength with the angstrom symbol next to it!\n",
    "\n",
    "Now, let's put our data on the plot and see what we get!"
   ]
  },
  {
   "cell_type": "code",
   "execution_count": 22,
   "metadata": {},
   "outputs": [
    {
     "data": {
      "image/png": "[encoded data removed]",
      "text/plain": [
       "<Figure size 864x432 with 1 Axes>"
      ]
     },
     "execution_count": 22,
     "metadata": {},
     "output_type": "execute_result"
    }
   ],
   "source": [
    "ax.plot(wavelength, flux)\n",
    "fig"
   ]
  },
  {
   "cell_type": "markdown",
   "metadata": {},
   "source": [
    "It looks really good!! But what about the uncertainty in the observations at each point? That's where **IVAR** comes into play! \n",
    "\n",
    "Ivar is short for inverse-variance!\n",
    "\n",
    "and Ivar = $\\frac{1}{\\sigma^{2}}$ where ${\\sigma}$ is the uncertainty.\n",
    "\n",
    "Therefore, in order to calculate uncertainty, we need to do the following:\n",
    "\n",
    "$\\sigma$ = $\\frac{1}{\\sqrt{ivar}}$"
   ]
  },
  {
   "cell_type": "code",
   "execution_count": 23,
   "metadata": {},
   "outputs": [
    {
     "name": "stderr",
     "output_type": "stream",
     "text": [
      "/Users/loganfries/opt/anaconda3/envs/astroconda/lib/python3.7/site-packages/ipykernel_launcher.py:3: RuntimeWarning: divide by zero encountered in true_divide\n",
      "  This is separate from the ipykernel package so we can avoid doing imports until\n"
     ]
    }
   ],
   "source": [
    "import numpy as np #a package in python that has a suite of mathematical operations and ways to manipulate arrays.\n",
    "\n",
    "uncertainty = 1 / np.sqrt(ivar)"
   ]
  },
  {
   "cell_type": "markdown",
   "metadata": {},
   "source": [
    "So, we get a warning about dividing by zero! That is because if we look at the ivar array, we will see that there are some zero values within it!"
   ]
  },
  {
   "cell_type": "code",
   "execution_count": 24,
   "metadata": {},
   "outputs": [
    {
     "data": {
      "text/plain": [
       "array([0.30019125, 0.2584076 , 0.22675203, ..., 0.        , 0.        ,\n",
       "       0.        ], dtype=float32)"
      ]
     },
     "execution_count": 24,
     "metadata": {},
     "output_type": "execute_result"
    }
   ],
   "source": [
    "ivar"
   ]
  },
  {
   "cell_type": "markdown",
   "metadata": {},
   "source": [
    "So, when we are computing uncertainty, we are accidentally dividing by zero!! In the cases where there are zero values for the inverse-variance, those uncertainty values will also be zero! So to get around this, let's replace every zero value in the ivar array with a $10^{-6}$ since that is close to zero, but we can also divide by it without running into any issues! But, then we will have uncertainties with ~1000 since 1 / $\\sqrt{10^{-6}}$ is around 1000! So, we will need to get rid of values greater than 900 in the uncertainty array when it's all said and done!"
   ]
  },
  {
   "cell_type": "code",
   "execution_count": 25,
   "metadata": {},
   "outputs": [],
   "source": [
    "ivar[ivar == 0] = 10**-6 #This replaces every instance of zero within ivar with 10^-6"
   ]
  },
  {
   "cell_type": "code",
   "execution_count": 26,
   "metadata": {},
   "outputs": [
    {
     "data": {
      "text/plain": [
       "array([3.0019125e-01, 2.5840759e-01, 2.2675203e-01, ..., 1.0000000e-06,\n",
       "       1.0000000e-06, 1.0000000e-06], dtype=float32)"
      ]
     },
     "execution_count": 26,
     "metadata": {},
     "output_type": "execute_result"
    }
   ],
   "source": [
    "ivar"
   ]
  },
  {
   "cell_type": "markdown",
   "metadata": {},
   "source": [
    "So, we've successfully changed each value of zero within the inverse-variance array with $10^{-6}$! So, now when we calculate the uncertainty, we will not be dividing by zero!"
   ]
  },
  {
   "cell_type": "code",
   "execution_count": 27,
   "metadata": {},
   "outputs": [
    {
     "data": {
      "text/plain": [
       "array([  1.8251603,   1.9671947,   2.1000247, ..., 999.99994  ,\n",
       "       999.99994  , 999.99994  ], dtype=float32)"
      ]
     },
     "execution_count": 27,
     "metadata": {},
     "output_type": "execute_result"
    }
   ],
   "source": [
    "uncertainty = 1 / np.sqrt(ivar)\n",
    "uncertainty"
   ]
  },
  {
   "cell_type": "markdown",
   "metadata": {},
   "source": [
    "And now we get no divide by zero warning! But, we do have 999.99994 for values of uncertainty in places! We need to get rid of those and just make them zero!"
   ]
  },
  {
   "cell_type": "code",
   "execution_count": 28,
   "metadata": {},
   "outputs": [
    {
     "data": {
      "text/plain": [
       "array([1.8251603, 1.9671947, 2.1000247, ..., 0.       , 0.       ,\n",
       "       0.       ], dtype=float32)"
      ]
     },
     "execution_count": 28,
     "metadata": {},
     "output_type": "execute_result"
    }
   ],
   "source": [
    "uncertainty[uncertainty > 900] = 0\n",
    "uncertainty"
   ]
  },
  {
   "cell_type": "markdown",
   "metadata": {},
   "source": [
    "So, we got rid of the high uncertainty values! Great! \n",
    "\n",
    "Next, let's add the uncertainty to the spectra that we created! To do this, we want to visualize the uncertainty above the data and below the data! So, we need to create two arrays with:\n",
    "\n",
    "```Python\n",
    "belowUncertainty = flux - uncertainty\n",
    "aboveUncertainty = flux + uncertainty\n",
    "```"
   ]
  },
  {
   "cell_type": "code",
   "execution_count": 29,
   "metadata": {},
   "outputs": [],
   "source": [
    "belowUncertainty = flux - uncertainty\n",
    "aboveUncertainty = flux + uncertainty"
   ]
  },
  {
   "cell_type": "code",
   "execution_count": 30,
   "metadata": {},
   "outputs": [
    {
     "data": {
      "text/plain": [
       "[<matplotlib.lines.Line2D at 0x7f8518a92390>]"
      ]
     },
     "execution_count": 30,
     "metadata": {},
     "output_type": "execute_result"
    }
   ],
   "source": [
    "ax.plot(wavelength, belowUncertainty, c = 'grey', alpha = 0.3)\n",
    "ax.plot(wavelength, aboveUncertainty, c = 'grey', alpha = 0.3)"
   ]
  },
  {
   "cell_type": "code",
   "execution_count": 31,
   "metadata": {},
   "outputs": [
    {
     "data": {
      "image/png": "[encoded data removed]",
      "text/plain": [
       "<Figure size 864x432 with 1 Axes>"
      ]
     },
     "execution_count": 31,
     "metadata": {},
     "output_type": "execute_result"
    }
   ],
   "source": [
    "fig\n"
   ]
  },
  {
   "cell_type": "markdown",
   "metadata": {},
   "source": [
    "So, we see that the faint grey lines are the uncertainty added to the flux (above the blue line) and subtracted from the flux (below the blue line)!"
   ]
  },
  {
   "cell_type": "markdown",
   "metadata": {},
   "source": [
    "## Models and Fitting"
   ]
  },
  {
   "cell_type": "markdown",
   "metadata": {},
   "source": [
    "Next, we are going to talk about models and fitting! Out of all the python packages to fit data, I find that AstroPy's is the best and most intuitive!\n",
    "\n",
    "As always, let's start by importing what we need!"
   ]
  },
  {
   "cell_type": "code",
   "execution_count": 32,
   "metadata": {},
   "outputs": [],
   "source": [
    "from astropy.modeling import models, fitting"
   ]
  },
  {
   "cell_type": "markdown",
   "metadata": {},
   "source": [
    "Now, let's start with a simple example fitting the following line"
   ]
  },
  {
   "cell_type": "code",
   "execution_count": 33,
   "metadata": {},
   "outputs": [
    {
     "data": {
      "text/plain": [
       "<matplotlib.legend.Legend at 0x7f8518a5bc90>"
      ]
     },
     "execution_count": 33,
     "metadata": {},
     "output_type": "execute_result"
    },
    {
     "data": {
      "image/png": "[encoded data removed]",
      "text/plain": [
       "<Figure size 432x288 with 1 Axes>"
      ]
     },
     "metadata": {
      "needs_background": "light"
     },
     "output_type": "display_data"
    }
   ],
   "source": [
    "# Initialize a figure.\n",
    "fig, ax = plt.subplots()\n",
    "\n",
    "# Define a model for a line\n",
    "line_orig = models.Linear1D(slope=1.0, intercept=0.5)\n",
    "\n",
    "# Generate x, y data non-uniformly spaced in x\n",
    "# Add noise to y measurements\n",
    "npts = 30\n",
    "np.random.seed(10)\n",
    "x = np.random.uniform(0.0, 10.0, npts)\n",
    "y = line_orig(x)\n",
    "yunc = np.absolute(np.random.normal(0.5, 2.5, npts))\n",
    "y += np.random.normal(0.0, yunc, npts)\n",
    "\n",
    "\n",
    "####### Can ignore the above, as it's just creating fake data #######\n",
    "\n",
    "ax.plot(x, y, 'ko', label='Data')\n",
    "ax.legend()"
   ]
  },
  {
   "cell_type": "markdown",
   "metadata": {},
   "source": [
    "So, there is what we are going to call our data. Now, we want to create a best fit for the line in the form of \n",
    "\n",
    "y = mx + b\n",
    "\n",
    "To do that, we want to initialize the following:"
   ]
  },
  {
   "cell_type": "code",
   "execution_count": 34,
   "metadata": {},
   "outputs": [],
   "source": [
    "# Initialize a linear fitter\n",
    "fit = fitting.LinearLSQFitter()\n",
    "\n",
    "# Initialize a linear model\n",
    "line_init = models.Linear1D()\n",
    "\n",
    "# Fit the data with the fitter\n",
    "fitted_line = fit(line_init, x, y)"
   ]
  },
  {
   "cell_type": "markdown",
   "metadata": {},
   "source": [
    "Now, we have our fit in the variable fitted_line. Let's see what is the output when we call 'fitted_line'"
   ]
  },
  {
   "cell_type": "code",
   "execution_count": 35,
   "metadata": {},
   "outputs": [
    {
     "data": {
      "text/plain": [
       "<Linear1D(slope=0.94034445, intercept=0.86951285)>"
      ]
     },
     "execution_count": 35,
     "metadata": {},
     "output_type": "execute_result"
    }
   ],
   "source": [
    "fitted_line"
   ]
  },
  {
   "cell_type": "markdown",
   "metadata": {},
   "source": [
    "So, it gives us the slope (m) and intercept (b) of the equation\n",
    "\n",
    "y = mx + b\n",
    "\n",
    "Now, let's plot the line and see how it stacks up to the data we created..."
   ]
  },
  {
   "cell_type": "code",
   "execution_count": 36,
   "metadata": {},
   "outputs": [
    {
     "data": {
      "text/plain": [
       "<matplotlib.legend.Legend at 0x7f8518afc210>"
      ]
     },
     "execution_count": 36,
     "metadata": {},
     "output_type": "execute_result"
    }
   ],
   "source": [
    "ax.plot(x, fitted_line(x), 'b-', label='Fitted Model')\n",
    "ax.legend()"
   ]
  },
  {
   "cell_type": "code",
   "execution_count": 37,
   "metadata": {},
   "outputs": [
    {
     "data": {
      "image/png": "[encoded data removed]",
      "text/plain": [
       "<Figure size 432x288 with 1 Axes>"
      ]
     },
     "execution_count": 37,
     "metadata": {},
     "output_type": "execute_result"
    }
   ],
   "source": [
    "fig"
   ]
  },
  {
   "cell_type": "markdown",
   "metadata": {},
   "source": [
    "It looks pretty good! We can use AstroPy to fit a wide range of functions and fitting equations! See more at:\n",
    "\n",
    "https://docs.astropy.org/en/stable/modeling/index.html"
   ]
  },
  {
   "cell_type": "markdown",
   "metadata": {},
   "source": [
    "## Cosmological Calculations "
   ]
  },
  {
   "cell_type": "markdown",
   "metadata": {},
   "source": [
    "Another useful funciton of AstroPy is to use it for cosmological calculations! As always, we want to start by importing the relevant packages!"
   ]
  },
  {
   "cell_type": "code",
   "execution_count": 38,
   "metadata": {},
   "outputs": [],
   "source": [
    "from astropy.cosmology import WMAP9 as cosmo"
   ]
  },
  {
   "cell_type": "markdown",
   "metadata": {},
   "source": [
    "Now, let's see what the Hubble Constant $H_{0}$ is within AstroPy's cosmology!"
   ]
  },
  {
   "cell_type": "code",
   "execution_count": 41,
   "metadata": {},
   "outputs": [
    {
     "data": {
      "text/latex": [
       "$69.32 \\; \\mathrm{\\frac{km}{Mpc\\,s}}$"
      ],
      "text/plain": [
       "<Quantity 69.32 km / (Mpc s)>"
      ]
     },
     "execution_count": 41,
     "metadata": {},
     "output_type": "execute_result"
    }
   ],
   "source": [
    "cosmo.H0"
   ]
  },
  {
   "cell_type": "markdown",
   "metadata": {},
   "source": [
    "So, it's 69.32 $km$ $Mpc^{-1}$ $s^{-1}$. This data comes from the nine-year WMAP results! However, we want to create our own cosmology and do cosmological calculations with that! To do that we need to do the following:"
   ]
  },
  {
   "cell_type": "code",
   "execution_count": 42,
   "metadata": {},
   "outputs": [],
   "source": [
    "from astropy.cosmology import FlatLambdaCDM"
   ]
  },
  {
   "cell_type": "code",
   "execution_count": 43,
   "metadata": {},
   "outputs": [],
   "source": [
    "cosmo = FlatLambdaCDM(H0 = 70, Om0 = 0.3)"
   ]
  },
  {
   "cell_type": "markdown",
   "metadata": {},
   "source": [
    "Here we are creating our 'cosmo' by initializing a **flat** ($\\Omega_{k}$ = 0), **lambda CDM (Cold Dark Matter)** ($\\Omega_{\\Lambda}$ = 0.7) and we are giving it the Hubble Parameter ($H_{0}$) and the energy density due to matter ($\\Omega_{m}$). For our purposes, we want these values to be $H_{0}$ = 70 and $\\Omega_{m}$ = 0.3. Now, we can calculate a myriad of things like: comoving distance, luminosity distance, look-back time, etc!"
   ]
  },
  {
   "cell_type": "markdown",
   "metadata": {},
   "source": [
    "Let's calculate comoving distance as a function of redshift and then see what the resultant plot looks like!"
   ]
  },
  {
   "cell_type": "markdown",
   "metadata": {},
   "source": [
    "Let's first start by creating an array of redshifts that we can put into the function for comoving distance"
   ]
  },
  {
   "cell_type": "code",
   "execution_count": 53,
   "metadata": {},
   "outputs": [],
   "source": [
    "z = np.arange(0.0001, 100, 0.0001)\n",
    "\n",
    "# This creates an array. It starts with the first argument: 0.0001 and then ends with the second argument: 100\n",
    "# and it spaces each element out by the third argument: 0.0001.\n",
    "# So our array will look like:\n",
    "# [0.0001, 0.0002, 0.0003, ..., 100]"
   ]
  },
  {
   "cell_type": "markdown",
   "metadata": {},
   "source": [
    "Now that we have a wide range of redshifts to put into our function, let's initialize it!"
   ]
  },
  {
   "cell_type": "code",
   "execution_count": 56,
   "metadata": {},
   "outputs": [
    {
     "data": {
      "text/latex": [
       "$[0.4282653,~0.85651133,~1.2847381,~\\dots,~12598.732,~12598.732,~12598.733] \\; \\mathrm{Mpc}$"
      ],
      "text/plain": [
       "<Quantity [4.28265304e-01, 8.56511334e-01, 1.28473809e+00, ...,\n",
       "           1.25987315e+04, 1.25987323e+04, 1.25987331e+04] Mpc>"
      ]
     },
     "execution_count": 56,
     "metadata": {},
     "output_type": "execute_result"
    }
   ],
   "source": [
    "cosmo.comoving_distance(z)"
   ]
  },
  {
   "cell_type": "markdown",
   "metadata": {},
   "source": [
    "So, this will give us an array that is the same length of *z*, but is the comoving distance! As you can see by the end of the array, the units are in Mpc! Now, let's plot this!"
   ]
  },
  {
   "cell_type": "code",
   "execution_count": 57,
   "metadata": {},
   "outputs": [
    {
     "data": {
      "image/png": "[encoded data removed]",
      "text/plain": [
       "<Figure size 432x288 with 1 Axes>"
      ]
     },
     "metadata": {
      "needs_background": "light"
     },
     "output_type": "display_data"
    }
   ],
   "source": [
    "# Initialize a figure.\n",
    "fig, ax = plt.subplots()"
   ]
  },
  {
   "cell_type": "code",
   "execution_count": 65,
   "metadata": {},
   "outputs": [
    {
     "data": {
      "image/png": "[encoded data removed]",
      "text/plain": [
       "<Figure size 432x288 with 1 Axes>"
      ]
     },
     "execution_count": 65,
     "metadata": {},
     "output_type": "execute_result"
    }
   ],
   "source": [
    "ax.plot(z, cosmo.comoving_distance(z))\n",
    "\n",
    "# Create x and y axis labels\n",
    "ax.set_xlabel('Redshift')\n",
    "ax.set_ylabel('Comoving Distance (Mpc)')\n",
    "\n",
    "# Constrain the x-axis to 0-12\n",
    "ax.set_xlim(0, 12)\n",
    "\n",
    "fig"
   ]
  },
  {
   "cell_type": "markdown",
   "metadata": {},
   "source": [
    "For more information about cosmological calculations with AstroPy, visit:\n",
    "\n",
    "https://docs.astropy.org/en/stable/cosmology/index.html"
   ]
  },
  {
   "cell_type": "markdown",
   "metadata": {},
   "source": [
    "For more information about AstroPy in general, visit the documentation page:\n",
    "\n",
    "https://docs.astropy.org/en/stable/index.html"
   ]
  }
 ],
 "metadata": {
  "kernelspec": {
   "display_name": "Python 3",
   "language": "python",
   "name": "python3"
  },
  "language_info": {
   "codemirror_mode": {
    "name": "ipython",
    "version": 3
   },
   "file_extension": ".py",
   "mimetype": "text/x-python",
   "name": "python",
   "nbconvert_exporter": "python",
   "pygments_lexer": "ipython3",
   "version": "3.7.4"
  }
 },
 "nbformat": 4,
 "nbformat_minor": 5
}
